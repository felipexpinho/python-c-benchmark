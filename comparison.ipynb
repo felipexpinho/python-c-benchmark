{
 "cells": [
  {
   "cell_type": "code",
   "execution_count": 37,
   "metadata": {},
   "outputs": [],
   "source": [
    "from ctypes import *\n",
    "import os\n",
    "import time\n",
    "import pandas as pd"
   ]
  },
  {
   "cell_type": "code",
   "execution_count": 15,
   "metadata": {},
   "outputs": [],
   "source": [
    "# Get the current working directory\n",
    "current_dir = os.getcwd()\n",
    "\n",
    "# Define relative paths for the DLLs\n",
    "dll_relative_path = \"../python-c-benchmark/scripts/func64.dll\"\n",
    "dll_relative_path_o3 = \"../python-c-benchmark/scripts/func64_o3.dll\"\n",
    "\n",
    "# Construct absolute paths for the DLLs\n",
    "absolute_path = os.path.abspath(os.path.join(current_dir, dll_relative_path))\n",
    "absolute_path_o3 = os.path.abspath(os.path.join(current_dir, dll_relative_path_o3))\n",
    "\n",
    "# Load both DLLs\n",
    "my_func = WinDLL(absolute_path, winmode=0x8)\n",
    "my_func_o3 = WinDLL(absolute_path_o3, winmode=0x8)"
   ]
  },
  {
   "cell_type": "code",
   "execution_count": 18,
   "metadata": {},
   "outputs": [],
   "source": [
    "# Defining a function like the function in c:\n",
    "def sum(value):\n",
    "    sum_value = 0\n",
    "    for i in range(value):\n",
    "        sum_value += 1\n",
    "\n",
    "    return sum_value"
   ]
  },
  {
   "cell_type": "code",
   "execution_count": 34,
   "metadata": {},
   "outputs": [],
   "source": [
    "# Defining a value to be used\n",
    "value = 2**30"
   ]
  },
  {
   "cell_type": "code",
   "execution_count": 38,
   "metadata": {},
   "outputs": [],
   "source": [
    "# Generating a dataframe to compare results\n",
    "columns = [\"Python\", \"C\", \"Parallelized C\", \"C with Optimization (O3)\", \"Parallelized C with Optimization (O3)\"]\n",
    "df = pd.DataFrame(columns=columns)"
   ]
  },
  {
   "cell_type": "code",
   "execution_count": 115,
   "metadata": {},
   "outputs": [],
   "source": [
    "# Start a new row\n",
    "new_row = {}"
   ]
  },
  {
   "cell_type": "markdown",
   "metadata": {},
   "source": [
    "### PYTHON"
   ]
  },
  {
   "cell_type": "code",
   "execution_count": 116,
   "metadata": {},
   "outputs": [
    {
     "name": "stdout",
     "output_type": "stream",
     "text": [
      "Code executed in 44.22354030609131 seconds\n"
     ]
    }
   ],
   "source": [
    "start = time.time()\n",
    "sum(value)\n",
    "finish = time.time()\n",
    "print(f\"Code executed in {finish-start} seconds\")\n",
    "new_row[\"Python\"] = finish-start"
   ]
  },
  {
   "cell_type": "markdown",
   "metadata": {},
   "source": [
    "### C"
   ]
  },
  {
   "cell_type": "code",
   "execution_count": 117,
   "metadata": {},
   "outputs": [
    {
     "name": "stdout",
     "output_type": "stream",
     "text": [
      "Code executed in 2.9516704082489014 seconds\n"
     ]
    }
   ],
   "source": [
    "start = time.time()\n",
    "my_func.sum(value)\n",
    "finish = time.time()\n",
    "print(f\"Code executed in {finish-start} seconds\")\n",
    "new_row[\"C\"] = finish-start"
   ]
  },
  {
   "cell_type": "markdown",
   "metadata": {},
   "source": [
    "### Parallelized C"
   ]
  },
  {
   "cell_type": "code",
   "execution_count": 118,
   "metadata": {},
   "outputs": [
    {
     "name": "stdout",
     "output_type": "stream",
     "text": [
      "Code executed in 0.27906370162963867 seconds\n"
     ]
    }
   ],
   "source": [
    "start = time.time()\n",
    "my_func.sum_parallel(value)\n",
    "finish = time.time()\n",
    "print(f\"Code executed in {finish-start} seconds\")\n",
    "new_row[\"Parallelized C\"] = finish-start"
   ]
  },
  {
   "cell_type": "markdown",
   "metadata": {},
   "source": [
    "### C with optimization (O3)"
   ]
  },
  {
   "cell_type": "code",
   "execution_count": 119,
   "metadata": {},
   "outputs": [
    {
     "name": "stdout",
     "output_type": "stream",
     "text": [
      "Code executed in 0.8196051120758057 seconds\n"
     ]
    }
   ],
   "source": [
    "start = time.time()\n",
    "my_func_o3.sum(value)\n",
    "finish = time.time()\n",
    "print(f\"Code executed in {finish-start} seconds\")\n",
    "new_row[\"C with Optimization (O3)\"] = finish-start"
   ]
  },
  {
   "cell_type": "markdown",
   "metadata": {},
   "source": [
    "### Parallelized C with optimization (O3)"
   ]
  },
  {
   "cell_type": "code",
   "execution_count": 120,
   "metadata": {},
   "outputs": [
    {
     "name": "stdout",
     "output_type": "stream",
     "text": [
      "Code executed in 0.08601951599121094 seconds\n"
     ]
    }
   ],
   "source": [
    "start = time.time()\n",
    "my_func_o3.sum_parallel(value)\n",
    "finish = time.time()\n",
    "print(f\"Code executed in {finish-start} seconds\")\n",
    "new_row[\"Parallelized C with Optimization (O3)\"] = finish-start"
   ]
  },
  {
   "cell_type": "markdown",
   "metadata": {},
   "source": [
    "### Adding the row to the DataFrame"
   ]
  },
  {
   "cell_type": "code",
   "execution_count": 121,
   "metadata": {},
   "outputs": [],
   "source": [
    "# Adding the row to the DataFrame\n",
    "df.loc[len(df)] = new_row"
   ]
  },
  {
   "cell_type": "markdown",
   "metadata": {},
   "source": [
    "### Checking the Results"
   ]
  },
  {
   "cell_type": "code",
   "execution_count": 122,
   "metadata": {},
   "outputs": [
    {
     "data": {
      "text/html": [
       "<div>\n",
       "<style scoped>\n",
       "    .dataframe tbody tr th:only-of-type {\n",
       "        vertical-align: middle;\n",
       "    }\n",
       "\n",
       "    .dataframe tbody tr th {\n",
       "        vertical-align: top;\n",
       "    }\n",
       "\n",
       "    .dataframe thead th {\n",
       "        text-align: right;\n",
       "    }\n",
       "</style>\n",
       "<table border=\"1\" class=\"dataframe\">\n",
       "  <thead>\n",
       "    <tr style=\"text-align: right;\">\n",
       "      <th></th>\n",
       "      <th>Python</th>\n",
       "      <th>C</th>\n",
       "      <th>Parallelized C</th>\n",
       "      <th>C with Optimization (O3)</th>\n",
       "      <th>Parallelized C with Optimization (O3)</th>\n",
       "    </tr>\n",
       "  </thead>\n",
       "  <tbody>\n",
       "    <tr>\n",
       "      <th>0</th>\n",
       "      <td>43.106490</td>\n",
       "      <td>2.953668</td>\n",
       "      <td>0.281062</td>\n",
       "      <td>0.805181</td>\n",
       "      <td>0.084524</td>\n",
       "    </tr>\n",
       "    <tr>\n",
       "      <th>1</th>\n",
       "      <td>44.482627</td>\n",
       "      <td>2.977674</td>\n",
       "      <td>0.353080</td>\n",
       "      <td>0.832188</td>\n",
       "      <td>0.103022</td>\n",
       "    </tr>\n",
       "    <tr>\n",
       "      <th>2</th>\n",
       "      <td>44.353094</td>\n",
       "      <td>2.967670</td>\n",
       "      <td>0.307070</td>\n",
       "      <td>0.824187</td>\n",
       "      <td>0.103024</td>\n",
       "    </tr>\n",
       "    <tr>\n",
       "      <th>3</th>\n",
       "      <td>44.136875</td>\n",
       "      <td>2.955960</td>\n",
       "      <td>0.323074</td>\n",
       "      <td>0.804181</td>\n",
       "      <td>0.089020</td>\n",
       "    </tr>\n",
       "    <tr>\n",
       "      <th>4</th>\n",
       "      <td>44.046071</td>\n",
       "      <td>2.957192</td>\n",
       "      <td>0.282063</td>\n",
       "      <td>0.822186</td>\n",
       "      <td>0.095021</td>\n",
       "    </tr>\n",
       "    <tr>\n",
       "      <th>5</th>\n",
       "      <td>44.422154</td>\n",
       "      <td>2.963670</td>\n",
       "      <td>0.304068</td>\n",
       "      <td>0.803182</td>\n",
       "      <td>0.087019</td>\n",
       "    </tr>\n",
       "    <tr>\n",
       "      <th>6</th>\n",
       "      <td>44.039393</td>\n",
       "      <td>2.961010</td>\n",
       "      <td>0.289065</td>\n",
       "      <td>0.809186</td>\n",
       "      <td>0.083019</td>\n",
       "    </tr>\n",
       "    <tr>\n",
       "      <th>7</th>\n",
       "      <td>44.019779</td>\n",
       "      <td>2.957667</td>\n",
       "      <td>0.288065</td>\n",
       "      <td>0.801181</td>\n",
       "      <td>0.083019</td>\n",
       "    </tr>\n",
       "    <tr>\n",
       "      <th>8</th>\n",
       "      <td>44.328374</td>\n",
       "      <td>2.960408</td>\n",
       "      <td>0.323073</td>\n",
       "      <td>0.808183</td>\n",
       "      <td>0.081019</td>\n",
       "    </tr>\n",
       "    <tr>\n",
       "      <th>9</th>\n",
       "      <td>44.223540</td>\n",
       "      <td>2.951670</td>\n",
       "      <td>0.279064</td>\n",
       "      <td>0.819605</td>\n",
       "      <td>0.086020</td>\n",
       "    </tr>\n",
       "  </tbody>\n",
       "</table>\n",
       "</div>"
      ],
      "text/plain": [
       "      Python         C  Parallelized C  C with Optimization (O3)  \\\n",
       "0  43.106490  2.953668        0.281062                  0.805181   \n",
       "1  44.482627  2.977674        0.353080                  0.832188   \n",
       "2  44.353094  2.967670        0.307070                  0.824187   \n",
       "3  44.136875  2.955960        0.323074                  0.804181   \n",
       "4  44.046071  2.957192        0.282063                  0.822186   \n",
       "5  44.422154  2.963670        0.304068                  0.803182   \n",
       "6  44.039393  2.961010        0.289065                  0.809186   \n",
       "7  44.019779  2.957667        0.288065                  0.801181   \n",
       "8  44.328374  2.960408        0.323073                  0.808183   \n",
       "9  44.223540  2.951670        0.279064                  0.819605   \n",
       "\n",
       "   Parallelized C with Optimization (O3)  \n",
       "0                               0.084524  \n",
       "1                               0.103022  \n",
       "2                               0.103024  \n",
       "3                               0.089020  \n",
       "4                               0.095021  \n",
       "5                               0.087019  \n",
       "6                               0.083019  \n",
       "7                               0.083019  \n",
       "8                               0.081019  \n",
       "9                               0.086020  "
      ]
     },
     "execution_count": 122,
     "metadata": {},
     "output_type": "execute_result"
    }
   ],
   "source": [
    "df"
   ]
  },
  {
   "cell_type": "code",
   "execution_count": 123,
   "metadata": {},
   "outputs": [
    {
     "data": {
      "text/plain": [
       "Python                                   44.115840\n",
       "C                                         2.960659\n",
       "Parallelized C                            0.302968\n",
       "C with Optimization (O3)                  0.812926\n",
       "Parallelized C with Optimization (O3)     0.089471\n",
       "dtype: float64"
      ]
     },
     "execution_count": 123,
     "metadata": {},
     "output_type": "execute_result"
    }
   ],
   "source": [
    "df.mean()"
   ]
  },
  {
   "cell_type": "code",
   "execution_count": 136,
   "metadata": {},
   "outputs": [
    {
     "name": "stdout",
     "output_type": "stream",
     "text": [
      "For this test, comparing functions of a for loop that adds 1 to the final result 1073741824 times, here are the results:\n",
      "C is 14.90 times faster than Python\n",
      "Parallelized C is 145.61 times faster than Python\n",
      "C with Optimization (O3) is 54.27 times faster than Python\n",
      "Parallelized C with Optimization (O3) is 493.08 times faster than Python\n"
     ]
    }
   ],
   "source": [
    "print(f\"For this test, comparing functions of a for loop that adds 1 to the final result {value} times, here are the results:\")\n",
    "for idx, item in enumerate(df.mean()):\n",
    "    if idx == 0:\n",
    "        continue\n",
    "\n",
    "    print(f\"{df.columns[idx]} is {(df.mean().iloc[0] / item):.2f} times faster than Python\")"
   ]
  }
 ],
 "metadata": {
  "kernelspec": {
   "display_name": "Python 3",
   "language": "python",
   "name": "python3"
  },
  "language_info": {
   "codemirror_mode": {
    "name": "ipython",
    "version": 3
   },
   "file_extension": ".py",
   "mimetype": "text/x-python",
   "name": "python",
   "nbconvert_exporter": "python",
   "pygments_lexer": "ipython3",
   "version": "3.12.0"
  }
 },
 "nbformat": 4,
 "nbformat_minor": 2
}
